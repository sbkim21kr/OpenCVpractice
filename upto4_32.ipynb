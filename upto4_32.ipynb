{
 "cells": [
  {
   "cell_type": "code",
   "execution_count": 1,
   "id": "d72caeb6",
   "metadata": {},
   "outputs": [],
   "source": [
    "import numpy as np\n",
    "import cv2\n",
    "\n",
    "# 검정색 배경 이미지 생성 (512x512, 3 channels, 8-bit unsigned integer)\n",
    "img = np.zeros((512, 512, 3), np.uint8)\n",
    "\n",
    "# 대각선 (Blue, 두께 5px)\n",
    "img = cv2.line(img, (0, 0), (511, 511), (255, 0, 0), 5)\n",
    "\n",
    "cv2.imshow('image', img)\n",
    "cv2.waitKey(0)\n",
    "cv2.destroyAllWindows()"
   ]
  },
  {
   "cell_type": "code",
   "execution_count": 3,
   "id": "664a343b",
   "metadata": {},
   "outputs": [
    {
     "name": "stdout",
     "output_type": "stream",
     "text": [
      "EVENT_FLAG_ALTKEY\n",
      "EVENT_FLAG_CTRLKEY\n",
      "EVENT_FLAG_LBUTTON\n",
      "EVENT_FLAG_MBUTTON\n",
      "EVENT_FLAG_RBUTTON\n",
      "EVENT_FLAG_SHIFTKEY\n",
      "EVENT_LBUTTONDBLCLK\n",
      "EVENT_LBUTTONDOWN\n",
      "EVENT_LBUTTONUP\n",
      "EVENT_MBUTTONDBLCLK\n",
      "EVENT_MBUTTONDOWN\n",
      "EVENT_MBUTTONUP\n",
      "EVENT_MOUSEHWHEEL\n",
      "EVENT_MOUSEMOVE\n",
      "EVENT_MOUSEWHEEL\n",
      "EVENT_RBUTTONDBLCLK\n",
      "EVENT_RBUTTONDOWN\n",
      "EVENT_RBUTTONUP\n"
     ]
    }
   ],
   "source": [
    "import cv2\n",
    "events = [i for i in dir(cv2) if 'EVENT' in i]\n",
    "\n",
    "for event in events:\n",
    "    print(event)\n"
   ]
  },
  {
   "cell_type": "code",
   "execution_count": 8,
   "id": "794860c2",
   "metadata": {},
   "outputs": [],
   "source": [
    "import cv2\n",
    "import numpy as np\n",
    "\n",
    "# Callback 함수\n",
    "def draw_circle(event, x, y, flags, param):\n",
    "    if event == cv2.EVENT_LBUTTONDBLCLK: # Left Button Double Click Event\n",
    "        cv2.circle(img, (x, y), 100, (255, 0, 0), -1) # 원 그리기\n",
    "\n",
    "# 빈 Image 생성 (검정색 배경)\n",
    "img = np.zeros((512, 512, 3), np.uint8)\n",
    "cv2.namedWindow('image') # 윈도우 창 생성\n",
    "cv2.setMouseCallback('image', draw_circle) # Mouse Callback 함수 등록\n",
    "\n",
    "while(1):\n",
    "    cv2.imshow('image', img) # displaying img object on the 'image' window\n",
    "    if cv2.waitKey(20) & 0xFF == 27: # ESC 키 입력 시 종료\n",
    "        break\n",
    "\n",
    "cv2.destroyAllWindows()"
   ]
  },
  {
   "cell_type": "code",
   "execution_count": 9,
   "id": "a2cce2b8",
   "metadata": {},
   "outputs": [],
   "source": [
    "import cv2\n",
    "import numpy as np\n",
    "\n",
    "drawing = False # Mouse 클릭 상태 (False: 떼어진 상태, True: 눌린 상태)\n",
    "mode = True # 도형 모드 (True: 사각형, False: 원)\n",
    "ix, iy = -1, -1 # 시작점 좌표 초기화\n",
    "\n",
    "# Mouse Callback 함수\n",
    "def draw_circle(event, x, y, flags, param):\n",
    "    global ix, iy, drawing, mode\n",
    "\n",
    "    if event == cv2.EVENT_LBUTTONDOWN: # Left Button Down Event\n",
    "        drawing = True # 클릭 상태로 변경\n",
    "        ix, iy = x, y # 시작점 좌표 저장\n",
    "\n",
    "    elif event == cv2.EVENT_MOUSEMOVE: # Mouse Move Event\n",
    "        if drawing == True: # 클릭 상태인 경우\n",
    "            if mode == True: # 사각형 모드\n",
    "                cv2.rectangle(img, (ix, iy), (x, y), (255, 0, 0), -1) # 사각형 그리기\n",
    "            else: # 원 모드\n",
    "                cv2.circle(img, (x, y), 5, (0, 255, 0), -1) # 원 그리기\n",
    "\n",
    "    elif event == cv2.EVENT_LBUTTONUP: # Left Button Up Event\n",
    "        drawing = False # 떼어진 상태로 변경\n",
    "        if mode == True: # 사각형 모드\n",
    "            cv2.rectangle(img, (ix, iy), (x, y), (255, 0, 0), -1) # 최종 사각형 그리기\n",
    "        else: # 원 모드\n",
    "            cv2.circle(img, (x, y), 5, (0, 255, 0), -1) # 최종 원 그리기\n",
    "\n",
    "img = np.zeros((512, 512, 3), np.uint8) # 검정색 배경 이미지 생성\n",
    "cv2.namedWindow('image') # 윈도우 창 생성\n",
    "cv2.setMouseCallback('image', draw_circle) # Mouse Callback 함수 등록\n",
    "\n",
    "while True:\n",
    "    cv2.imshow('image', img) # 이미지 표시\n",
    "    k = cv2.waitKey(1) & 0xFF # 키 입력 대기\n",
    "\n",
    "    if k == ord('m'): # 'm' 키 입력 시 도형 모드 변경 (사각형 <-> 원)\n",
    "        mode = not mode\n",
    "    elif k == 27: # ESC 키 입력 시 종료\n",
    "        break\n",
    "\n",
    "cv2.destroyAllWindows()"
   ]
  }
 ],
 "metadata": {
  "kernelspec": {
   "display_name": "venv",
   "language": "python",
   "name": "python3"
  },
  "language_info": {
   "codemirror_mode": {
    "name": "ipython",
    "version": 3
   },
   "file_extension": ".py",
   "mimetype": "text/x-python",
   "name": "python",
   "nbconvert_exporter": "python",
   "pygments_lexer": "ipython3",
   "version": "3.12.3"
  }
 },
 "nbformat": 4,
 "nbformat_minor": 5
}
