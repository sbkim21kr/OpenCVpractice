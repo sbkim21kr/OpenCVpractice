{
 "cells": [
  {
   "cell_type": "code",
   "execution_count": null,
   "id": "b7d34fce",
   "metadata": {},
   "outputs": [],
   "source": [
    "import cv2\n",
    "import numpy as np\n",
    "\n",
    "# 이미지 로드\n",
    "image=cv2.imread('./download/lena.png')\n",
    "if image is not None:\n",
    "    gray_image = cv2.cvtColor(image, cv2.COLOR_BGR2GRAY)\n",
    "\n",
    "    # 가우시안 블러링\n",
    "    blurred_image = cv2.GaussianBlur(image, (5, 5), 0)\n",
    "\n",
    "    # 샤프닝\n",
    "    kernel = np.array([[-1, -1, -1], [-1, 9, -1], [-1, -1, -1]])\n",
    "    sharpened_image = cv2.filter2D(image, -1, kernel)\n",
    "\n",
    "    # 소벨 필터\n",
    "    sobelx = cv2.Sobel(gray_image, cv2.CV_64F, 1, 0, ksize=3)\n",
    "    sobely = cv2.Sobel(gray_image, cv2.CV_64F, 0, 1, ksize=3)\n",
    "\n",
    "    # 캐니 엣지 검출\n",
    "    edges = cv2.Canny(gray_image, 100, 200)\n",
    "\n",
    "    # 결과 저장\n",
    "    cv2.imwrite('blurred_image.jpg', blurred_image)\n",
    "    cv2.imwrite('sharpened_image.jpg', sharpened_image)\n",
    "    cv2.imwrite('sobelx.jpg', sobelx)\n",
    "    cv2.imwrite('sobely.jpg', sobely)\n",
    "    cv2.imwrite('edges.jpg', edges)\n",
    "    print(\"Images filtered successfully\")\n",
    "else:\n",
    "    print(\"Error: Could not load image.\")"
   ]
  }
 ],
 "metadata": {
  "kernelspec": {
   "display_name": "Python 3",
   "language": "python",
   "name": "python3"
  },
  "language_info": {
   "codemirror_mode": {
    "name": "ipython",
    "version": 3
   },
   "file_extension": ".py",
   "mimetype": "text/x-python",
   "name": "python",
   "nbconvert_exporter": "python",
   "pygments_lexer": "ipython3",
   "version": "3.13.7"
  }
 },
 "nbformat": 4,
 "nbformat_minor": 5
}
